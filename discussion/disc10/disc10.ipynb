{
 "cells": [
  {
   "cell_type": "code",
   "execution_count": null,
   "metadata": {
    "deletable": false,
    "editable": false
   },
   "outputs": [],
   "source": [
    "# Initialize Otter\n",
    "import otter\n",
    "grader = otter.Notebook(\"disc10.ipynb\")"
   ]
  },
  {
   "cell_type": "markdown",
   "metadata": {},
   "source": [
    "<img src=\"dsm-logo.png\" alt=\"Data Science Mentors Logo\" style=\"width: 15%; float: right; padding: 1%; margin-right: 2%;\"/>\n",
    "\n",
    "# Discussion Week 10 – Control and Iteration\n",
    "\n",
    "## Data 6, Fall 2024\n",
    "\n",
    "In this week's discussion we will be going over control and iteration. These new topics will greatly improve how we define functions! Below the reference sheet contains a section about booleans, and another resource is python tutor which can visualize most functions step by step process.\n",
    "\n",
    "Resources: \n",
    "* [Python Reference Sheet](https://data6.org/fa24/reference/) \n",
    "* [Python Tutor](https://pythontutor.com/python-compiler.html#mode=edit)"
   ]
  },
  {
   "cell_type": "code",
   "execution_count": null,
   "metadata": {},
   "outputs": [],
   "source": [
    "# Imports\n",
    "from datascience import *\n",
    "import numpy as np\n",
    "Table.interactive_plots()"
   ]
  },
  {
   "cell_type": "markdown",
   "metadata": {},
   "source": [
    "<hr style=\"border: 5px solid #003262;\" />\n",
    "<hr style=\"border: 1px solid #fdb515;\" />\n",
    "\n",
    "# Part 1: Trick or Treat 🍬🎃\n",
    "\n",
    "The `treats` array holds 100 randomly chosen items (both treats and non-treats) from the `items` list. Although Data 6 hasn’t yet introduced `np.random.choice`, imagine it like drawing slips of paper from a hat. Each slip has an item written on it, and we record the item each time we draw. We repeated this \"drawing\" 100 times to create our `treats` array!"
   ]
  },
  {
   "cell_type": "code",
   "execution_count": null,
   "metadata": {},
   "outputs": [],
   "source": [
    "items = np.array([\"chocolate\", \"gummy bear\", \"candy corn\", \"lollipop\", \"caramel\", \"coal\"])\n",
    "treats = np.random.choice(items, 100)\n",
    "treats"
   ]
  },
  {
   "cell_type": "markdown",
   "metadata": {},
   "source": [
    "<hr style=\"border: 1px solid #fdb515;\" />\n",
    "\n",
    "## Question 1a: Coal?\n",
    "\n",
    "We notice that the `items` array has coal, which is most definitely not a treat. We want to count the number of coal in the `treats` array! Create the function `coal_counter`, which takes in one arguement, `treats_array`. It should return the number of coal in `treats`.\n"
   ]
  },
  {
   "cell_type": "code",
   "execution_count": null,
   "metadata": {
    "tags": []
   },
   "outputs": [],
   "source": [
    "def coal_counter(treats_array):\n",
    "    counter = 0 \n",
    "    ...\n",
    "        ...\n",
    "            ...\n",
    "    ...\n",
    "\n",
    "coal_counter(treats) # This line counts the number of coal in your treats array"
   ]
  },
  {
   "cell_type": "code",
   "execution_count": null,
   "metadata": {
    "deletable": false,
    "editable": false
   },
   "outputs": [],
   "source": [
    "grader.check(\"q1a\")"
   ]
  },
  {
   "cell_type": "markdown",
   "metadata": {},
   "source": [
    "<hr style=\"border: 1px solid #fdb515;\" />\n",
    "\n",
    "## Question 1b: Chocolate Lover 🍫\n",
    "\n",
    "Edwin is a chocolate enjoyer. He wants to go through his treats, but he some interesting reactions. He screams \"CHOCOLATE\" everytime he picks up a chocalate, and \"Meh\" for everything else. Write a function, `edwins_reactions` which takes in an array, `treats_array`, and prints his reaction for every item in `edwins_treats`.\n",
    "\n",
    "*Note*: This function doesn't return anything"
   ]
  },
  {
   "cell_type": "code",
   "execution_count": null,
   "metadata": {
    "tags": []
   },
   "outputs": [],
   "source": [
    "edwins_treats = np.random.choice(items, 10) # Edwin only has 10 pieces of candy\n",
    "\n",
    "def edwins_reactions(treats_array):\n",
    "    for ...:\n",
    "        ...\n",
    "            ...\n",
    "        ...\n",
    "            ...\n",
    "\n",
    "edwins_reactions(edwins_treats) # Edwin's reactions to his treats"
   ]
  },
  {
   "cell_type": "code",
   "execution_count": null,
   "metadata": {
    "deletable": false,
    "editable": false
   },
   "outputs": [],
   "source": [
    "grader.check(\"q1b\")"
   ]
  },
  {
   "cell_type": "markdown",
   "metadata": {},
   "source": [
    "<hr style=\"border: 5px solid #003262;\" />\n",
    "<hr style=\"border: 1px solid #fdb515;\" />\n",
    "\n",
    "# Part 2: San Francisco Salaries 2023"
   ]
  },
  {
   "cell_type": "markdown",
   "metadata": {},
   "source": [
    "Let's take a look at the salaries of employees of the City of San Francisco in 2023. The median salary reported by the city government was about $169,361. **Note that in this lab, this dataset is the population.**\n",
    "\n",
    "This data was collected by [Transparent California](https://transparentcalifornia.com/salaries/2023/san-francisco/)."
   ]
  },
  {
   "cell_type": "code",
   "execution_count": null,
   "metadata": {},
   "outputs": [],
   "source": [
    "salaries = Table.read_table(\"sf_salaries_2023.csv\")\n",
    "salaries"
   ]
  },
  {
   "cell_type": "markdown",
   "metadata": {},
   "source": [
    "<!-- BEGIN QUESTION -->\n",
    "\n",
    "<hr style=\"border: 1px solid #fdb515;\" />\n",
    "\n",
    "## Question 2a: Exploring the data\n",
    "\n",
    "How is `Total Pay` calculated?"
   ]
  },
  {
   "cell_type": "markdown",
   "metadata": {},
   "source": [
    "_Type your answer here, replacing this text._"
   ]
  },
  {
   "cell_type": "markdown",
   "metadata": {
    "vscode": {
     "languageId": "raw"
    }
   },
   "source": [
    "<!-- END QUESTION -->\n",
    "\n",
    "<!-- BEGIN QUESTION -->\n",
    "\n",
    "<hr style=\"border: 1px solid #fdb515;\" />\n",
    "\n",
    "## Question 2b: Overlaid Visualizations\n",
    "\n",
    "Create and overlaid visualization of your choosing. In the solutions, I picked the two most popular job titles and made an overlaid histogram on their total pay. "
   ]
  },
  {
   "cell_type": "code",
   "execution_count": null,
   "metadata": {
    "tags": []
   },
   "outputs": [],
   "source": [
    "..."
   ]
  },
  {
   "cell_type": "markdown",
   "metadata": {},
   "source": [
    "<!-- END QUESTION -->\n",
    "\n",
    "## We are almost 2/3 of the ways done with the semester!"
   ]
  },
  {
   "cell_type": "markdown",
   "metadata": {
    "deletable": false,
    "editable": false
   },
   "source": [
    "## Submission\n",
    "\n",
    "Make sure you have run all cells in your notebook in order before running the cell below, so that all images/graphs appear in the output. The cell below will generate a zip file for you to submit. **Please save before exporting!**"
   ]
  },
  {
   "cell_type": "code",
   "execution_count": null,
   "metadata": {
    "deletable": false,
    "editable": false
   },
   "outputs": [],
   "source": [
    "# Save your notebook first, then run this cell to export your submission.\n",
    "grader.export(pdf=False, run_tests=True)"
   ]
  },
  {
   "cell_type": "markdown",
   "metadata": {},
   "source": [
    " "
   ]
  }
 ],
 "metadata": {
  "kernelspec": {
   "display_name": "Python 3",
   "language": "python",
   "name": "python3"
  },
  "language_info": {
   "codemirror_mode": {
    "name": "ipython",
    "version": 3
   },
   "file_extension": ".py",
   "mimetype": "text/x-python",
   "name": "python",
   "nbconvert_exporter": "python",
   "pygments_lexer": "ipython3",
   "version": "3.12.6"
  },
  "otter": {
   "OK_FORMAT": true,
   "tests": {
    "q1a": {
     "name": "q1a",
     "points": 1,
     "suites": [
      {
       "cases": [
        {
         "code": ">>> np.random.seed(42)\n>>> treats = np.random.choice(items, 100)\n>>> coal_counter(treats) == 17\nTrue",
         "hidden": false,
         "locked": false
        }
       ],
       "scored": true,
       "setup": "",
       "teardown": "",
       "type": "doctest"
      }
     ]
    },
    "q1b": {
     "name": "q1b",
     "points": 1,
     "suites": [
      {
       "cases": [
        {
         "code": ">>> callable(edwins_reactions)\nTrue",
         "hidden": false,
         "locked": false
        }
       ],
       "scored": true,
       "setup": "",
       "teardown": "",
       "type": "doctest"
      }
     ]
    }
   }
  }
 },
 "nbformat": 4,
 "nbformat_minor": 5
}
